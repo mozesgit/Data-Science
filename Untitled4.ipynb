{
 "cells": [
  {
   "cell_type": "markdown",
   "id": "afc25d1d",
   "metadata": {},
   "source": [
    "# Data Types"
   ]
  },
  {
   "cell_type": "code",
   "execution_count": null,
   "id": "76de0d03",
   "metadata": {},
   "outputs": [],
   "source": [
    "# fundemental category data types\n",
    "        # int\n",
    "    '''\n",
    "        - binary\n",
    "        - octal\n",
    "        -hexa\n",
    "    '''\n",
    "        # float\n",
    "        # bool\n",
    "        # complex\n",
    "# sequential category data types\n",
    "        # str\n",
    "        # Bytes\n",
    "        # range\n"
   ]
  },
  {
   "cell_type": "code",
   "execution_count": 3,
   "id": "2a15d988",
   "metadata": {},
   "outputs": [
    {
     "name": "stdout",
     "output_type": "stream",
     "text": [
      "0b1100\n"
     ]
    }
   ],
   "source": [
    "# converting decimal system to binary system\n",
    "twelve = bin(12)\n",
    "print(twelve)"
   ]
  },
  {
   "cell_type": "code",
   "execution_count": 4,
   "id": "4ccebe49",
   "metadata": {},
   "outputs": [
    {
     "name": "stdout",
     "output_type": "stream",
     "text": [
      "15\n"
     ]
    }
   ],
   "source": [
    "# converting binary system to decimal system\n",
    "twelve = 0b1111\n",
    "print(twelve)"
   ]
  },
  {
   "cell_type": "code",
   "execution_count": 6,
   "id": "9a418416",
   "metadata": {},
   "outputs": [
    {
     "name": "stdout",
     "output_type": "stream",
     "text": [
      "23\n"
     ]
    }
   ],
   "source": [
    "# converting octal system to decimal system\n",
    "seven = 0o27\n",
    "print(seven)"
   ]
  },
  {
   "cell_type": "code",
   "execution_count": 7,
   "id": "dc923302",
   "metadata": {},
   "outputs": [
    {
     "name": "stdout",
     "output_type": "stream",
     "text": [
      "0o27\n"
     ]
    }
   ],
   "source": [
    "# converitng base 10 to octal system\n",
    "num = oct(23)\n",
    "print(num)"
   ]
  },
  {
   "cell_type": "code",
   "execution_count": 13,
   "id": "9ca51bd9",
   "metadata": {},
   "outputs": [
    {
     "name": "stdout",
     "output_type": "stream",
     "text": [
      "171\n"
     ]
    }
   ],
   "source": [
    "# converting hexa system to decimal system\n",
    "num2 = 0xAB\n",
    "print(num2)"
   ]
  },
  {
   "cell_type": "code",
   "execution_count": 14,
   "id": "838d6a02",
   "metadata": {},
   "outputs": [
    {
     "name": "stdout",
     "output_type": "stream",
     "text": [
      "0xab\n"
     ]
    }
   ],
   "source": [
    "# converting from decimal system to hexa system\n",
    "hexa = hex(171)\n",
    "print(hexa)"
   ]
  },
  {
   "cell_type": "code",
   "execution_count": 20,
   "id": "bbf4c99b",
   "metadata": {},
   "outputs": [
    {
     "name": "stdout",
     "output_type": "stream",
     "text": [
      "12 <class 'int'>\n"
     ]
    }
   ],
   "source": [
    "# str\n",
    "a = 12\n",
    "print(a,type(a))"
   ]
  }
 ],
 "metadata": {
  "kernelspec": {
   "display_name": "Python 3 (ipykernel)",
   "language": "python",
   "name": "python3"
  },
  "language_info": {
   "codemirror_mode": {
    "name": "ipython",
    "version": 3
   },
   "file_extension": ".py",
   "mimetype": "text/x-python",
   "name": "python",
   "nbconvert_exporter": "python",
   "pygments_lexer": "ipython3",
   "version": "3.9.7"
  }
 },
 "nbformat": 4,
 "nbformat_minor": 5
}
