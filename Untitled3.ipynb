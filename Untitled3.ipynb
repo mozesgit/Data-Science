{
 "cells": [
  {
   "cell_type": "markdown",
   "id": "b0161908",
   "metadata": {},
   "source": [
    "# Python Data Types"
   ]
  },
  {
   "cell_type": "markdown",
   "id": "f7a41a6e",
   "metadata": {},
   "source": [
    "## 1. Fundemental category data types"
   ]
  },
  {
   "cell_type": "code",
   "execution_count": null,
   "id": "095134a8",
   "metadata": {},
   "outputs": [],
   "source": [
    "# -int    -float -bool -complex"
   ]
  },
  {
   "cell_type": "markdown",
   "id": "9d0ea6eb",
   "metadata": {},
   "source": [
    "#  --------int data type ------"
   ]
  },
  {
   "cell_type": "code",
   "execution_count": 5,
   "id": "7a2f663f",
   "metadata": {},
   "outputs": [
    {
     "data": {
      "text/plain": [
       "int"
      ]
     },
     "execution_count": 5,
     "metadata": {},
     "output_type": "execute_result"
    }
   ],
   "source": [
    "age = 23\n",
    "type(age)"
   ]
  },
  {
   "cell_type": "markdown",
   "id": "4e7b8223",
   "metadata": {},
   "source": [
    "# ---------float data type------------------"
   ]
  },
  {
   "cell_type": "code",
   "execution_count": 7,
   "id": "2381434e",
   "metadata": {},
   "outputs": [
    {
     "data": {
      "text/plain": [
       "float"
      ]
     },
     "execution_count": 7,
     "metadata": {},
     "output_type": "execute_result"
    }
   ],
   "source": [
    "height = 23.4\n",
    "type(height)"
   ]
  },
  {
   "cell_type": "code",
   "execution_count": 12,
   "id": "052aca3e",
   "metadata": {},
   "outputs": [
    {
     "name": "stdout",
     "output_type": "stream",
     "text": [
      "23\n"
     ]
    }
   ],
   "source": [
    "# Convert a floating a value to integer value\n",
    "int_height = int(height)\n",
    "print(int_height)"
   ]
  },
  {
   "cell_type": "code",
   "execution_count": 13,
   "id": "b1e440bc",
   "metadata": {},
   "outputs": [
    {
     "name": "stdout",
     "output_type": "stream",
     "text": [
      "234.0\n"
     ]
    }
   ],
   "source": [
    "# convert 234 to float data type\n",
    "number=float(234)\n",
    "print(number)"
   ]
  },
  {
   "cell_type": "markdown",
   "id": "d67a72ef",
   "metadata": {},
   "source": [
    "# ---------boolean data type-------"
   ]
  },
  {
   "cell_type": "code",
   "execution_count": 17,
   "id": "0cf9b8e5",
   "metadata": {},
   "outputs": [
    {
     "data": {
      "text/plain": [
       "bool"
      ]
     },
     "execution_count": 17,
     "metadata": {},
     "output_type": "execute_result"
    }
   ],
   "source": [
    "isMale=True\n",
    "isActive=False\n"
   ]
  },
  {
   "cell_type": "code",
   "execution_count": 18,
   "id": "9b85eeb8",
   "metadata": {},
   "outputs": [
    {
     "data": {
      "text/plain": [
       "1"
      ]
     },
     "execution_count": 18,
     "metadata": {},
     "output_type": "execute_result"
    }
   ],
   "source": [
    "# converting True to int\n",
    "int(True)"
   ]
  },
  {
   "cell_type": "code",
   "execution_count": 19,
   "id": "cf7f839e",
   "metadata": {},
   "outputs": [
    {
     "data": {
      "text/plain": [
       "0"
      ]
     },
     "execution_count": 19,
     "metadata": {},
     "output_type": "execute_result"
    }
   ],
   "source": [
    "# converting False to int\n",
    "int(False)"
   ]
  },
  {
   "cell_type": "code",
   "execution_count": 21,
   "id": "3eeb6e8a",
   "metadata": {},
   "outputs": [
    {
     "data": {
      "text/plain": [
       "2"
      ]
     },
     "execution_count": 21,
     "metadata": {},
     "output_type": "execute_result"
    }
   ],
   "source": [
    "True+True + False+False"
   ]
  },
  {
   "cell_type": "code",
   "execution_count": 24,
   "id": "dd549e9e",
   "metadata": {},
   "outputs": [
    {
     "data": {
      "text/plain": [
       "1.0"
      ]
     },
     "execution_count": 24,
     "metadata": {},
     "output_type": "execute_result"
    }
   ],
   "source": [
    "# Convert True to float data type\n",
    "float(True)"
   ]
  },
  {
   "cell_type": "markdown",
   "id": "bf3147dd",
   "metadata": {},
   "source": [
    "# ----------Complex data type---------"
   ]
  },
  {
   "cell_type": "code",
   "execution_count": 27,
   "id": "765cae6a",
   "metadata": {},
   "outputs": [
    {
     "name": "stdout",
     "output_type": "stream",
     "text": [
      "(2-4j)\n"
     ]
    }
   ],
   "source": [
    "y = 2 -4j\n",
    "print(y)"
   ]
  },
  {
   "cell_type": "code",
   "execution_count": 28,
   "id": "935c877e",
   "metadata": {},
   "outputs": [
    {
     "data": {
      "text/plain": [
       "2.0"
      ]
     },
     "execution_count": 28,
     "metadata": {},
     "output_type": "execute_result"
    }
   ],
   "source": [
    "# Extracting the real number from the complex expression\n",
    "# use: <variable>.real\n",
    "y.real"
   ]
  },
  {
   "cell_type": "code",
   "execution_count": 29,
   "id": "d234e6a9",
   "metadata": {},
   "outputs": [
    {
     "data": {
      "text/plain": [
       "-4.0"
      ]
     },
     "execution_count": 29,
     "metadata": {},
     "output_type": "execute_result"
    }
   ],
   "source": [
    "# Extracting the imaginary number from complex expression\n",
    "# Hint:<variable>.imag\n",
    "print(y.imag)"
   ]
  },
  {
   "cell_type": "code",
   "execution_count": 38,
   "id": "182edc83",
   "metadata": {},
   "outputs": [
    {
     "name": "stdout",
     "output_type": "stream",
     "text": [
      "4.5\n"
     ]
    }
   ],
   "source": [
    "# Extract real number from 4.5 + 8j\n",
    "# y = 4.5 + 8j\n",
    "real_number = (4.5 +8j).real\n",
    "print(real_number)"
   ]
  },
  {
   "cell_type": "code",
   "execution_count": 34,
   "id": "c22573c8",
   "metadata": {},
   "outputs": [
    {
     "data": {
      "text/plain": [
       "8.0"
      ]
     },
     "execution_count": 34,
     "metadata": {},
     "output_type": "execute_result"
    }
   ],
   "source": [
    "y.imag"
   ]
  },
  {
   "cell_type": "code",
   "execution_count": 42,
   "id": "99e2429c",
   "metadata": {},
   "outputs": [
    {
     "data": {
      "text/plain": [
       "0j"
      ]
     },
     "execution_count": 42,
     "metadata": {},
     "output_type": "execute_result"
    }
   ],
   "source": [
    "complex(False)"
   ]
  },
  {
   "cell_type": "markdown",
   "id": "8da1de42",
   "metadata": {},
   "source": [
    "# NUMBER SYSTEM"
   ]
  },
  {
   "cell_type": "code",
   "execution_count": 50,
   "id": "1c74b02f",
   "metadata": {},
   "outputs": [
    {
     "data": {
      "text/plain": [
       "63"
      ]
     },
     "execution_count": 50,
     "metadata": {},
     "output_type": "execute_result"
    }
   ],
   "source": [
    "# binary numbers(0,1)\n",
    "# convert 3 to binary system\n",
    "# Hint:bin(<decimal system value>)\n",
    "0b111111"
   ]
  },
  {
   "cell_type": "code",
   "execution_count": 51,
   "id": "17af905c",
   "metadata": {},
   "outputs": [
    {
     "data": {
      "text/plain": [
       "'0b111111'"
      ]
     },
     "execution_count": 51,
     "metadata": {},
     "output_type": "execute_result"
    }
   ],
   "source": [
    "bin(63)"
   ]
  },
  {
   "cell_type": "code",
   "execution_count": 55,
   "id": "a4f509de",
   "metadata": {},
   "outputs": [
    {
     "data": {
      "text/plain": [
       "55"
      ]
     },
     "execution_count": 55,
     "metadata": {},
     "output_type": "execute_result"
    }
   ],
   "source": [
    "0o67"
   ]
  },
  {
   "cell_type": "code",
   "execution_count": 56,
   "id": "84f339aa",
   "metadata": {},
   "outputs": [
    {
     "data": {
      "text/plain": [
       "'0o67'"
      ]
     },
     "execution_count": 56,
     "metadata": {},
     "output_type": "execute_result"
    }
   ],
   "source": [
    "oct(55)"
   ]
  },
  {
   "cell_type": "code",
   "execution_count": 57,
   "id": "3b634de4",
   "metadata": {},
   "outputs": [
    {
     "data": {
      "text/plain": [
       "349"
      ]
     },
     "execution_count": 57,
     "metadata": {},
     "output_type": "execute_result"
    }
   ],
   "source": [
    "0o535"
   ]
  },
  {
   "cell_type": "code",
   "execution_count": 58,
   "id": "bb706bf8",
   "metadata": {},
   "outputs": [
    {
     "data": {
      "text/plain": [
       "'0o535'"
      ]
     },
     "execution_count": 58,
     "metadata": {},
     "output_type": "execute_result"
    }
   ],
   "source": [
    "oct(349)"
   ]
  }
 ],
 "metadata": {
  "kernelspec": {
   "display_name": "Python 3 (ipykernel)",
   "language": "python",
   "name": "python3"
  },
  "language_info": {
   "codemirror_mode": {
    "name": "ipython",
    "version": 3
   },
   "file_extension": ".py",
   "mimetype": "text/x-python",
   "name": "python",
   "nbconvert_exporter": "python",
   "pygments_lexer": "ipython3",
   "version": "3.9.7"
  }
 },
 "nbformat": 4,
 "nbformat_minor": 5
}
