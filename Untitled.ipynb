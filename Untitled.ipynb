{
 "cells": [
  {
   "cell_type": "code",
   "execution_count": 2,
   "id": "49587def",
   "metadata": {},
   "outputs": [],
   "source": [
    "import numpy as np\n",
    "from time import process_time\n"
   ]
  },
  {
   "cell_type": "code",
   "execution_count": 14,
   "id": "8b2ab80f",
   "metadata": {},
   "outputs": [],
   "source": [
    "# Creating a simple dimension array\n",
    "ages = np.array([12,13,34,15,16,17,18,24])\n"
   ]
  },
  {
   "cell_type": "code",
   "execution_count": 15,
   "id": "3d142ad7",
   "metadata": {},
   "outputs": [
    {
     "name": "stdout",
     "output_type": "stream",
     "text": [
      "[12 13 34 15 16 17 18 24]\n"
     ]
    },
    {
     "data": {
      "text/plain": [
       "8"
      ]
     },
     "execution_count": 15,
     "metadata": {},
     "output_type": "execute_result"
    }
   ],
   "source": [
    "print(ages)\n",
    "# checking the datatype\n",
    "type(ages)\n",
    "# Checking the number of dimensions\n",
    "ages.shape\n",
    "# Getting the number of elements\n",
    "ages.size"
   ]
  },
  {
   "cell_type": "code",
   "execution_count": 20,
   "id": "bef4291a",
   "metadata": {},
   "outputs": [],
   "source": [
    "# Changing from one dim to two dim figure\n",
    "c=ages.reshape(2,4)"
   ]
  },
  {
   "cell_type": "code",
   "execution_count": 30,
   "id": "2b1e4296",
   "metadata": {},
   "outputs": [
    {
     "name": "stdout",
     "output_type": "stream",
     "text": [
      "[[0 0 0]\n",
      " [0 0 0]]\n"
     ]
    },
    {
     "data": {
      "text/plain": [
       "6"
      ]
     },
     "execution_count": 30,
     "metadata": {},
     "output_type": "execute_result"
    }
   ],
   "source": [
    "# creatind an array with initial values\n",
    "arr2 =  np.zeros((2,3),dtype=int)\n",
    "print(arr2)\n",
    "arr2.dtype\n",
    "type(arr2)\n",
    "arr2.size"
   ]
  },
  {
   "cell_type": "code",
   "execution_count": 40,
   "id": "94aaca95",
   "metadata": {},
   "outputs": [],
   "source": [
    "# creating an array containing random numbers\n",
    "rand = np.random.randint(10,20,(3,2))"
   ]
  },
  {
   "cell_type": "code",
   "execution_count": 43,
   "id": "f4fc64c8",
   "metadata": {},
   "outputs": [
    {
     "data": {
      "text/plain": [
       "array([[10, 13, 13, 19, 16, 18]])"
      ]
     },
     "execution_count": 43,
     "metadata": {},
     "output_type": "execute_result"
    }
   ],
   "source": [
    "rand.reshape((1,6))"
   ]
  },
  {
   "cell_type": "raw",
   "id": "e1c92ed8",
   "metadata": {},
   "source": []
  },
  {
   "cell_type": "code",
   "execution_count": 44,
   "id": "943f9241",
   "metadata": {},
   "outputs": [],
   "source": [
    "# Creating an array having the same number of rows and columns\n",
    "arr3=np.eye(4)"
   ]
  },
  {
   "cell_type": "code",
   "execution_count": 45,
   "id": "c983f27b",
   "metadata": {},
   "outputs": [
    {
     "data": {
      "text/plain": [
       "array([[1., 0., 0., 0.],\n",
       "       [0., 1., 0., 0.],\n",
       "       [0., 0., 1., 0.],\n",
       "       [0., 0., 0., 1.]])"
      ]
     },
     "execution_count": 45,
     "metadata": {},
     "output_type": "execute_result"
    }
   ],
   "source": [
    "arr3"
   ]
  },
  {
   "cell_type": "raw",
   "id": "951ba3a3",
   "metadata": {},
   "source": []
  },
  {
   "cell_type": "code",
   "execution_count": 48,
   "id": "fe942b43",
   "metadata": {},
   "outputs": [],
   "source": [
    "# Creating an evenly spaced array\n",
    "arr4=np.linspace(12,25,5,dtype=int)"
   ]
  },
  {
   "cell_type": "code",
   "execution_count": 49,
   "id": "101dec00",
   "metadata": {},
   "outputs": [
    {
     "data": {
      "text/plain": [
       "array([12, 15, 18, 21, 25])"
      ]
     },
     "execution_count": 49,
     "metadata": {},
     "output_type": "execute_result"
    }
   ],
   "source": [
    "arr4"
   ]
  },
  {
   "cell_type": "code",
   "execution_count": null,
   "id": "361ab5ea",
   "metadata": {},
   "outputs": [],
   "source": []
  },
  {
   "cell_type": "code",
   "execution_count": 50,
   "id": "ef675162",
   "metadata": {},
   "outputs": [],
   "source": [
    "# Mathematical Operations(Arithmetic Operations)\n",
    "# creating an array with random numbers in the range of 10-20,20-30\n",
    "a = np.random.randint(10,20,(3,3))\n",
    "b = np.random.randint(20,30,(3,3))"
   ]
  },
  {
   "cell_type": "code",
   "execution_count": 54,
   "id": "996d747f",
   "metadata": {},
   "outputs": [
    {
     "name": "stdout",
     "output_type": "stream",
     "text": [
      "[[13 19 15]\n",
      " [17 13 17]\n",
      " [13 19 13]]\n",
      "--------------------\n",
      "[[29 25 26]\n",
      " [20 24 22]\n",
      " [21 27 28]]\n"
     ]
    }
   ],
   "source": [
    "print(a)\n",
    "print('-'*20)\n",
    "print(b)"
   ]
  },
  {
   "cell_type": "code",
   "execution_count": 69,
   "id": "507426f0",
   "metadata": {},
   "outputs": [
    {
     "name": "stdout",
     "output_type": "stream",
     "text": [
      "[[13 17 13]\n",
      " [19 13 19]\n",
      " [15 17 13]]\n",
      "[[29 20 21]\n",
      " [25 24 27]\n",
      " [26 22 28]]\n"
     ]
    }
   ],
   "source": [
    "trans=np.transpose(a)\n",
    "print(trans)\n",
    "# or\n",
    "tra = b.T\n",
    "print(tra)"
   ]
  },
  {
   "cell_type": "code",
   "execution_count": 68,
   "id": "790b077c",
   "metadata": {},
   "outputs": [],
   "source": [
    "# converting the list into an array\n",
    "list = []\n",
    "for i in range(1,12,2):\n",
    "    list.append(i)"
   ]
  },
  {
   "cell_type": "code",
   "execution_count": 65,
   "id": "04b31117",
   "metadata": {
    "collapsed": true
   },
   "outputs": [],
   "source": [
    "list\n",
    "# Converting the list into an array\n",
    "conv_list = np.asarray(list)"
   ]
  },
  {
   "cell_type": "code",
   "execution_count": 65,
   "id": "64fb1e00",
   "metadata": {},
   "outputs": [],
   "source": [
    "list\n",
    "# Converting the list into an array\n",
    "conv_list = np.asarray(list)"
   ]
  },
  {
   "cell_type": "code",
   "execution_count": 67,
   "id": "99279ad7",
   "metadata": {},
   "outputs": [
    {
     "name": "stdout",
     "output_type": "stream",
     "text": [
      "[ 1  3  5  7  9 11]\n"
     ]
    }
   ],
   "source": [
    "print(conv_list)"
   ]
  }
 ],
 "metadata": {
  "kernelspec": {
   "display_name": "Python 3 (ipykernel)",
   "language": "python",
   "name": "python3"
  },
  "language_info": {
   "codemirror_mode": {
    "name": "ipython",
    "version": 3
   },
   "file_extension": ".py",
   "mimetype": "text/x-python",
   "name": "python",
   "nbconvert_exporter": "python",
   "pygments_lexer": "ipython3",
   "version": "3.9.7"
  }
 },
 "nbformat": 4,
 "nbformat_minor": 5
}
